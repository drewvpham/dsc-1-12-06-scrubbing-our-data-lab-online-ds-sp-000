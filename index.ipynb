{
 "cells": [
  {
   "cell_type": "markdown",
   "metadata": {},
   "source": [
    "# Scrubbing Our Data - Lab\n",
    "\n",
    "## Introduction\n",
    "\n",
    "In the previous labs, we joined the data from our separate files into a single DataFrame.  In this lab, we'll scrub the data to get it ready for exploration and modeling!\n",
    "\n",
    "## Objectives\n",
    "\n",
    "You will be able to:\n",
    "\n",
    "* Cast columns to the appropriate data types\n",
    "* Identify and deal with null values appropriately\n",
    "* Remove unnecessary columns\n",
    "* Understand how to normalize data\n",
    "\n",
    "\n",
    "## Getting Started\n",
    "\n",
    "You'll find the resulting dataset from our work in the _Obtaining Data_ Lab stored within the file `walmart_data_not_cleaned.csv`.  \n",
    "\n",
    "In the cells below:\n",
    "\n",
    "* Import pandas and set the standard alias\n",
    "* Import numpy and set the standard alias\n",
    "* Import matplotlib.pyplot and set the standard alias\n",
    "* Import seaborn and set the alias `sns` (this is the standard alias for seaborn)\n",
    "* Use the ipython magic command to set all matplotlib visualizations to display inline in the the notebook\n",
    "* Load the dataset stored in the .csv file into a DataFrame using pandas\n",
    "* Inspect the head of the DataFrame to ensure everything loaded correctly"
   ]
  },
  {
   "cell_type": "code",
   "execution_count": 37,
   "metadata": {},
   "outputs": [],
   "source": [
    "# Import statements go here\n",
    "import pandas as pd\n",
    "import numpy as np\n",
    "import matplotlib.pyplot as plt\n",
    "import seaborn as sns\n",
    "import statsmodels.api as sm\n",
    "from statsmodels.formula.api import ols\n",
    "import matplotlib.pyplot as plt\n",
    "plt.style.use('seaborn')\n",
    "%matplotlib inline\n",
    "import warnings\n",
    "warnings.filterwarnings(\"ignore\",category=DeprecationWarning)\n"
   ]
  },
  {
   "cell_type": "code",
   "execution_count": 38,
   "metadata": {},
   "outputs": [
    {
     "data": {
      "text/html": [
       "<div>\n",
       "<style scoped>\n",
       "    .dataframe tbody tr th:only-of-type {\n",
       "        vertical-align: middle;\n",
       "    }\n",
       "\n",
       "    .dataframe tbody tr th {\n",
       "        vertical-align: top;\n",
       "    }\n",
       "\n",
       "    .dataframe thead th {\n",
       "        text-align: right;\n",
       "    }\n",
       "</style>\n",
       "<table border=\"1\" class=\"dataframe\">\n",
       "  <thead>\n",
       "    <tr style=\"text-align: right;\">\n",
       "      <th></th>\n",
       "      <th>Store</th>\n",
       "      <th>Dept</th>\n",
       "      <th>Date</th>\n",
       "      <th>Weekly_Sales</th>\n",
       "      <th>IsHoliday</th>\n",
       "      <th>Type</th>\n",
       "      <th>Size</th>\n",
       "      <th>Temperature</th>\n",
       "      <th>Fuel_Price</th>\n",
       "      <th>MarkDown1</th>\n",
       "      <th>MarkDown2</th>\n",
       "      <th>MarkDown3</th>\n",
       "      <th>MarkDown4</th>\n",
       "      <th>MarkDown5</th>\n",
       "      <th>CPI</th>\n",
       "      <th>Unemployment</th>\n",
       "    </tr>\n",
       "  </thead>\n",
       "  <tbody>\n",
       "    <tr>\n",
       "      <th>0</th>\n",
       "      <td>1</td>\n",
       "      <td>1</td>\n",
       "      <td>2010-02-05</td>\n",
       "      <td>24924.50</td>\n",
       "      <td>False</td>\n",
       "      <td>A</td>\n",
       "      <td>151315</td>\n",
       "      <td>42.31</td>\n",
       "      <td>2.572</td>\n",
       "      <td>NaN</td>\n",
       "      <td>NaN</td>\n",
       "      <td>NaN</td>\n",
       "      <td>NaN</td>\n",
       "      <td>NaN</td>\n",
       "      <td>211.096358</td>\n",
       "      <td>8.106</td>\n",
       "    </tr>\n",
       "    <tr>\n",
       "      <th>1</th>\n",
       "      <td>1</td>\n",
       "      <td>2</td>\n",
       "      <td>2010-02-05</td>\n",
       "      <td>50605.27</td>\n",
       "      <td>False</td>\n",
       "      <td>A</td>\n",
       "      <td>151315</td>\n",
       "      <td>42.31</td>\n",
       "      <td>2.572</td>\n",
       "      <td>NaN</td>\n",
       "      <td>NaN</td>\n",
       "      <td>NaN</td>\n",
       "      <td>NaN</td>\n",
       "      <td>NaN</td>\n",
       "      <td>211.096358</td>\n",
       "      <td>8.106</td>\n",
       "    </tr>\n",
       "    <tr>\n",
       "      <th>2</th>\n",
       "      <td>1</td>\n",
       "      <td>3</td>\n",
       "      <td>2010-02-05</td>\n",
       "      <td>13740.12</td>\n",
       "      <td>False</td>\n",
       "      <td>A</td>\n",
       "      <td>151315</td>\n",
       "      <td>42.31</td>\n",
       "      <td>2.572</td>\n",
       "      <td>NaN</td>\n",
       "      <td>NaN</td>\n",
       "      <td>NaN</td>\n",
       "      <td>NaN</td>\n",
       "      <td>NaN</td>\n",
       "      <td>211.096358</td>\n",
       "      <td>8.106</td>\n",
       "    </tr>\n",
       "    <tr>\n",
       "      <th>3</th>\n",
       "      <td>1</td>\n",
       "      <td>4</td>\n",
       "      <td>2010-02-05</td>\n",
       "      <td>39954.04</td>\n",
       "      <td>False</td>\n",
       "      <td>A</td>\n",
       "      <td>151315</td>\n",
       "      <td>42.31</td>\n",
       "      <td>2.572</td>\n",
       "      <td>NaN</td>\n",
       "      <td>NaN</td>\n",
       "      <td>NaN</td>\n",
       "      <td>NaN</td>\n",
       "      <td>NaN</td>\n",
       "      <td>211.096358</td>\n",
       "      <td>8.106</td>\n",
       "    </tr>\n",
       "    <tr>\n",
       "      <th>4</th>\n",
       "      <td>1</td>\n",
       "      <td>5</td>\n",
       "      <td>2010-02-05</td>\n",
       "      <td>32229.38</td>\n",
       "      <td>False</td>\n",
       "      <td>A</td>\n",
       "      <td>151315</td>\n",
       "      <td>42.31</td>\n",
       "      <td>2.572</td>\n",
       "      <td>NaN</td>\n",
       "      <td>NaN</td>\n",
       "      <td>NaN</td>\n",
       "      <td>NaN</td>\n",
       "      <td>NaN</td>\n",
       "      <td>211.096358</td>\n",
       "      <td>8.106</td>\n",
       "    </tr>\n",
       "  </tbody>\n",
       "</table>\n",
       "</div>"
      ],
      "text/plain": [
       "   Store  Dept        Date  Weekly_Sales  IsHoliday Type    Size  Temperature  \\\n",
       "0      1     1  2010-02-05      24924.50      False    A  151315        42.31   \n",
       "1      1     2  2010-02-05      50605.27      False    A  151315        42.31   \n",
       "2      1     3  2010-02-05      13740.12      False    A  151315        42.31   \n",
       "3      1     4  2010-02-05      39954.04      False    A  151315        42.31   \n",
       "4      1     5  2010-02-05      32229.38      False    A  151315        42.31   \n",
       "\n",
       "   Fuel_Price  MarkDown1  MarkDown2  MarkDown3  MarkDown4  MarkDown5  \\\n",
       "0       2.572        NaN        NaN        NaN        NaN        NaN   \n",
       "1       2.572        NaN        NaN        NaN        NaN        NaN   \n",
       "2       2.572        NaN        NaN        NaN        NaN        NaN   \n",
       "3       2.572        NaN        NaN        NaN        NaN        NaN   \n",
       "4       2.572        NaN        NaN        NaN        NaN        NaN   \n",
       "\n",
       "          CPI  Unemployment  \n",
       "0  211.096358         8.106  \n",
       "1  211.096358         8.106  \n",
       "2  211.096358         8.106  \n",
       "3  211.096358         8.106  \n",
       "4  211.096358         8.106  "
      ]
     },
     "execution_count": 38,
     "metadata": {},
     "output_type": "execute_result"
    }
   ],
   "source": [
    "# Now, load in the dataset and inspect the head to make sure everything loaded correctly\n",
    "df = pd.read_csv('walmart_data_not_cleaned.csv')\n",
    "df.head()"
   ]
  },
  {
   "cell_type": "markdown",
   "metadata": {},
   "source": [
    "Great! Everything looks just like we left it as.  Now, we can begin cleaning the data. \n",
    "\n",
    "Before we jump right into data cleaning,. we'll want to consider our process first.  Answer the following questions below:\n",
    "\n",
    "What sorts of problems should we be checking for?  Are there any obvious issues that we'll need to deal with? What are some other issues that this dataset could contain that might not be immediately obvious?  \n",
    "\n",
    "Write your answer below this line:\n",
    "________________________________________________________________________________________________________________________________\n",
    "\n",
    " \n",
    "\n",
    "## Dealing with Oversized Datasets\n",
    "\n",
    "This dataset is quite large. Often, when starting out on a project, its a good idea to build the model on a subset of the data so that we're not bogged down by large runtimes. Let's investigate the dataset a bit to get a feel for if this is a good idea. \n",
    "\n",
    "In the cell below, check how many rows this dataset contains."
   ]
  },
  {
   "cell_type": "code",
   "execution_count": 39,
   "metadata": {},
   "outputs": [
    {
     "data": {
      "text/plain": [
       "421570"
      ]
     },
     "execution_count": 39,
     "metadata": {},
     "output_type": "execute_result"
    }
   ],
   "source": [
    "len(df)"
   ]
  },
  {
   "cell_type": "markdown",
   "metadata": {},
   "source": [
    "This dataset contains `421570` rows! That's large enough that we should consider building our model on a subset of the data to increase our speed during the modeling step.  Modeling is an iterative process, and we'll likely have to fit out model multiple times as we tweak it--by subsetting our dataset, we'll protect ourselves from insane runtimes everytime we make a small change and need to rerun our model. Once we have a prototype built, we can always add all the extra data back in!\n",
    "\n",
    "### Subsetting our Dataset\n",
    "\n",
    "The typical method for subsetting our dataset is to just take a random sample of data.  This is an option for us.  However, when we inspect the columns of our dataset in a bit, we'll notice that we have 2 categorical columns with very high cardinality--`Store`, and `Dept`.  This provides us with an opportunity to reduce dimensionality while subsampling.  Instead of building a model on all the stores and departments in our dataset, we'll subset our data so that it only contains stores 1 through 10.  \n",
    "\n",
    "In the cell below, slice our dataset so that only rows with a `Store` value between 1 and 10 (inclusive) remain. "
   ]
  },
  {
   "cell_type": "code",
   "execution_count": 40,
   "metadata": {},
   "outputs": [],
   "source": [
    "df = df[df['Store'].isin(list(range(0,11)))]"
   ]
  },
  {
   "cell_type": "code",
   "execution_count": 41,
   "metadata": {},
   "outputs": [
    {
     "data": {
      "text/plain": [
       "97839"
      ]
     },
     "execution_count": 41,
     "metadata": {},
     "output_type": "execute_result"
    }
   ],
   "source": [
    "len(df)"
   ]
  },
  {
   "cell_type": "markdown",
   "metadata": {},
   "source": [
    "## Starting our Data Cleaning\n",
    "\n",
    "We'll begin by dealing with the most obvious issues--data types and null values. \n",
    "\n",
    "First, we'll check the different types of encoding that each column has, and then we'll check for null values and examine our options for dealing with them.\n",
    "\n",
    "### Checking Data Types\n",
    "\n",
    "In the cell below, use the appropriate method to check the data type of each column. "
   ]
  },
  {
   "cell_type": "code",
   "execution_count": 42,
   "metadata": {},
   "outputs": [
    {
     "name": "stdout",
     "output_type": "stream",
     "text": [
      "<class 'pandas.core.frame.DataFrame'>\n",
      "Int64Index: 97839 entries, 0 to 97838\n",
      "Data columns (total 16 columns):\n",
      "Store           97839 non-null int64\n",
      "Dept            97839 non-null int64\n",
      "Date            97839 non-null object\n",
      "Weekly_Sales    97839 non-null float64\n",
      "IsHoliday       97839 non-null bool\n",
      "Type            97839 non-null object\n",
      "Size            97839 non-null int64\n",
      "Temperature     97839 non-null float64\n",
      "Fuel_Price      97839 non-null float64\n",
      "MarkDown1       35013 non-null float64\n",
      "MarkDown2       27232 non-null float64\n",
      "MarkDown3       32513 non-null float64\n",
      "MarkDown4       34485 non-null float64\n",
      "MarkDown5       35013 non-null float64\n",
      "CPI             97839 non-null float64\n",
      "Unemployment    97839 non-null float64\n",
      "dtypes: bool(1), float64(10), int64(3), object(2)\n",
      "memory usage: 12.0+ MB\n"
     ]
    }
   ],
   "source": [
    "df.info()"
   ]
  },
  {
   "cell_type": "markdown",
   "metadata": {},
   "source": [
    "Let's investigate the unique values inside of the `Store` and `Dept` columns.\n",
    "\n",
    "In the cells below, use the appropriate DataFrame method to display all the unique values in the `Store` column, and in the `Dept` column. "
   ]
  },
  {
   "cell_type": "code",
   "execution_count": 43,
   "metadata": {},
   "outputs": [
    {
     "data": {
      "text/plain": [
       "array([ 1,  2,  3,  4,  5,  6,  7,  8,  9, 10])"
      ]
     },
     "execution_count": 43,
     "metadata": {},
     "output_type": "execute_result"
    }
   ],
   "source": [
    "df.Store.unique()"
   ]
  },
  {
   "cell_type": "code",
   "execution_count": 44,
   "metadata": {},
   "outputs": [
    {
     "data": {
      "text/plain": [
       "array([ 1,  2,  3,  4,  5,  6,  7,  8,  9, 10, 11, 12, 13, 14, 16, 17, 18,\n",
       "       19, 20, 21, 22, 23, 24, 25, 26, 27, 28, 29, 30, 31, 32, 33, 34, 35,\n",
       "       36, 37, 38, 40, 41, 42, 44, 45, 46, 47, 48, 49, 51, 52, 54, 55, 56,\n",
       "       58, 59, 60, 67, 71, 72, 74, 79, 80, 81, 82, 83, 85, 87, 90, 91, 92,\n",
       "       93, 94, 95, 97, 98, 78, 96, 99, 77, 39, 50])"
      ]
     },
     "execution_count": 44,
     "metadata": {},
     "output_type": "execute_result"
    }
   ],
   "source": [
    "df.Dept.unique()"
   ]
  },
  {
   "cell_type": "markdown",
   "metadata": {},
   "source": [
    "### Categorical Data Stored as Integers\n",
    "\n",
    "A common issue we usually check for at this stage is numeric columns that have accidentally been encoded as strings.  However, in this dataset, we'll notice that although the `Store` and `Dept` columns are both contain integer values, we can intuit that these are meant to be read as categorical data.  We'll want to convert these columns to strings, so that they will be one-hot encoded when we get around to dealing with our categorical columns.  \n",
    "\n",
    "You may be wondering why we don't just leave it as is.  This is because we would accidentally be creating numeric relationships between the different stores that shouldn't be there.  If left with numeric encoding, our model would interpret Store 2 as twice Store 1, but half of Store 4.  These sorts of mathematical relationships don't make sense--we'd much rather these be treated as categories, as the dataset intends.  \n",
    "\n",
    "In the cell below, cast the `Store` and `Dept` columns to strings. "
   ]
  },
  {
   "cell_type": "code",
   "execution_count": 45,
   "metadata": {},
   "outputs": [],
   "source": [
    "df.Store = df.Store.astype(\"str\")\n",
    "df.Dept = df.Dept.astype(\"str\")"
   ]
  },
  {
   "cell_type": "markdown",
   "metadata": {},
   "source": [
    "### Numeric Data Stored as Strings\n",
    "\n",
    "It looks like we have two columns that are encoded as strings (remember, pandas denotes string columns as `object`)--`Date` and `Type`.\n",
    "\n",
    "We don't need to worry about `Date`--those should obviously be encoded as strings. Let's quickly check out the `Type` column just to ensure that it doesn't contain numeric data.\n",
    "\n",
    "In the cell below, get the unique values contained within the `Type` column. "
   ]
  },
  {
   "cell_type": "code",
   "execution_count": 46,
   "metadata": {},
   "outputs": [
    {
     "data": {
      "text/plain": [
       "array(['A', 'B'], dtype=object)"
      ]
     },
     "execution_count": 46,
     "metadata": {},
     "output_type": "execute_result"
    }
   ],
   "source": [
    "df.Type.unique()"
   ]
  },
  {
   "cell_type": "markdown",
   "metadata": {},
   "source": [
    "Great job--the `Type` column is clearly a categorical column, and should currently be stored as a string.  Once we've dealt with null values, we'll deal with this and other categorical columns by one-hot encoding them. \n",
    "\n",
    "Let's double check the column encodings one more time to make sure that everything we did above worked correctly. "
   ]
  },
  {
   "cell_type": "code",
   "execution_count": 47,
   "metadata": {},
   "outputs": [
    {
     "name": "stdout",
     "output_type": "stream",
     "text": [
      "<class 'pandas.core.frame.DataFrame'>\n",
      "Int64Index: 97839 entries, 0 to 97838\n",
      "Data columns (total 16 columns):\n",
      "Store           97839 non-null object\n",
      "Dept            97839 non-null object\n",
      "Date            97839 non-null object\n",
      "Weekly_Sales    97839 non-null float64\n",
      "IsHoliday       97839 non-null bool\n",
      "Type            97839 non-null object\n",
      "Size            97839 non-null int64\n",
      "Temperature     97839 non-null float64\n",
      "Fuel_Price      97839 non-null float64\n",
      "MarkDown1       35013 non-null float64\n",
      "MarkDown2       27232 non-null float64\n",
      "MarkDown3       32513 non-null float64\n",
      "MarkDown4       34485 non-null float64\n",
      "MarkDown5       35013 non-null float64\n",
      "CPI             97839 non-null float64\n",
      "Unemployment    97839 non-null float64\n",
      "dtypes: bool(1), float64(10), int64(1), object(4)\n",
      "memory usage: 12.0+ MB\n"
     ]
    }
   ],
   "source": [
    "df.info()"
   ]
  },
  {
   "cell_type": "markdown",
   "metadata": {},
   "source": [
    "### Detecting and Dealing With Null Values\n",
    "\n",
    " Next, we'll need to check for null values. How we deal with the null values will be determined by the columns containing them, and how many null values exist in each.  \n",
    " \n",
    " In the cell below, use the appropriate pandas functionality to get a count of how many null values exist in each column in our DataFrame. "
   ]
  },
  {
   "cell_type": "code",
   "execution_count": 48,
   "metadata": {},
   "outputs": [
    {
     "data": {
      "text/plain": [
       "Store               0\n",
       "Dept                0\n",
       "Date                0\n",
       "Weekly_Sales        0\n",
       "IsHoliday           0\n",
       "Type                0\n",
       "Size                0\n",
       "Temperature         0\n",
       "Fuel_Price          0\n",
       "MarkDown1       62826\n",
       "MarkDown2       70607\n",
       "MarkDown3       65326\n",
       "MarkDown4       63354\n",
       "MarkDown5       62826\n",
       "CPI                 0\n",
       "Unemployment        0\n",
       "dtype: int64"
      ]
     },
     "execution_count": 48,
     "metadata": {},
     "output_type": "execute_result"
    }
   ],
   "source": [
    "df.isna().sum()"
   ]
  },
  {
   "cell_type": "markdown",
   "metadata": {},
   "source": [
    "**_QUESTION:_** Interpret the output above.  Do we know enough to have a strategy for dealing with these null values yet? Is dropping the rows a valid solution?  How about dropping the columns?  Can we replace them with interpolation, treat them as a categorical value, or deal with them through binning?  \n",
    "\n",
    "Write your answer below this line:\n",
    "________________________________________________________________________________\n",
    "\n",
    "\n",
    "\n",
    "Let's investigate these columns further.  In the cell below, get the top 20 value counts contained within `MarkDown3`."
   ]
  },
  {
   "cell_type": "code",
   "execution_count": 49,
   "metadata": {},
   "outputs": [],
   "source": [
    "# We likely want to hold onto the data as it can provide additional insight. likely we can treat them as categorical value or deal with them through binning."
   ]
  },
  {
   "cell_type": "code",
   "execution_count": 50,
   "metadata": {},
   "outputs": [
    {
     "data": {
      "text/plain": [
       "3.00     403\n",
       "1.00     331\n",
       "6.00     277\n",
       "1.65     217\n",
       "2.97     208\n",
       "2.00     197\n",
       "2.02     197\n",
       "0.55     193\n",
       "10.80    145\n",
       "8.11     145\n",
       "24.60    144\n",
       "4.20     141\n",
       "4.26     140\n",
       "6.50     140\n",
       "3.20     137\n",
       "0.22     136\n",
       "1.88     136\n",
       "6.01     135\n",
       "17.36    134\n",
       "0.25     134\n",
       "7.50     133\n",
       "3.39     133\n",
       "0.50     133\n",
       "0.60     132\n",
       "2.20     132\n",
       "3.72     130\n",
       "4.00     128\n",
       "0.24     127\n",
       "3.01     127\n",
       "1.71     126\n",
       "        ... \n",
       "0.51      62\n",
       "22.74     62\n",
       "1.04      62\n",
       "6.48      62\n",
       "24.70     62\n",
       "41.58     62\n",
       "0.68      62\n",
       "5.85      62\n",
       "2.46      62\n",
       "0.70      62\n",
       "4.54      62\n",
       "50.03     62\n",
       "4.46      62\n",
       "30.92     62\n",
       "1.40      62\n",
       "10.00     62\n",
       "30.18     62\n",
       "65.34     62\n",
       "42.75     61\n",
       "13.00     61\n",
       "10.75     61\n",
       "1.80      61\n",
       "8.08      61\n",
       "0.36      61\n",
       "52.06     61\n",
       "12.00     61\n",
       "6.02      61\n",
       "9.61      61\n",
       "68.00     61\n",
       "2.31      60\n",
       "Name: MarkDown3, Length: 425, dtype: int64"
      ]
     },
     "execution_count": 50,
     "metadata": {},
     "output_type": "execute_result"
    }
   ],
   "source": [
    "df[\"MarkDown3\"].value_counts()"
   ]
  },
  {
   "cell_type": "markdown",
   "metadata": {},
   "source": [
    "Now, let's get the descriptive statistics for each of the markdown columns. We want to see where the minimum and maximum values lie.  "
   ]
  },
  {
   "cell_type": "code",
   "execution_count": 51,
   "metadata": {},
   "outputs": [
    {
     "data": {
      "text/plain": [
       "count    35013.000000\n",
       "mean      7048.166982\n",
       "std       7656.783543\n",
       "min         35.940000\n",
       "25%       2639.050000\n",
       "50%       5126.540000\n",
       "75%       8813.810000\n",
       "max      75149.790000\n",
       "Name: MarkDown1, dtype: float64"
      ]
     },
     "metadata": {},
     "output_type": "display_data"
    }
   ],
   "source": [
    "display(df[\"MarkDown1\"].describe())"
   ]
  },
  {
   "cell_type": "code",
   "execution_count": 52,
   "metadata": {},
   "outputs": [
    {
     "data": {
      "text/plain": [
       "count     27232.000000\n",
       "mean       3210.994407\n",
       "std       10683.244951\n",
       "min         -10.980000\n",
       "25%          24.030000\n",
       "50%         148.950000\n",
       "75%        1555.570000\n",
       "max      104519.540000\n",
       "Name: MarkDown2, dtype: float64"
      ]
     },
     "metadata": {},
     "output_type": "display_data"
    }
   ],
   "source": [
    "display(df[\"MarkDown2\"].describe())"
   ]
  },
  {
   "cell_type": "code",
   "execution_count": 53,
   "metadata": {},
   "outputs": [
    {
     "data": {
      "text/plain": [
       "count     32513.000000\n",
       "mean       1553.120097\n",
       "std       10595.395278\n",
       "min           0.010000\n",
       "25%           4.530000\n",
       "50%          21.120000\n",
       "75%          96.350000\n",
       "max      141630.610000\n",
       "Name: MarkDown3, dtype: float64"
      ]
     },
     "metadata": {},
     "output_type": "display_data"
    }
   ],
   "source": [
    "display(df[\"MarkDown3\"].describe())"
   ]
  },
  {
   "cell_type": "code",
   "execution_count": 54,
   "metadata": {},
   "outputs": [
    {
     "data": {
      "text/plain": [
       "count    34485.000000\n",
       "mean      2934.328386\n",
       "std       5199.795541\n",
       "min          4.000000\n",
       "25%        426.510000\n",
       "50%       1183.640000\n",
       "75%       3463.030000\n",
       "max      48159.860000\n",
       "Name: MarkDown4, dtype: float64"
      ]
     },
     "metadata": {},
     "output_type": "display_data"
    }
   ],
   "source": [
    "display(df[\"MarkDown4\"].describe())"
   ]
  },
  {
   "cell_type": "code",
   "execution_count": 55,
   "metadata": {},
   "outputs": [
    {
     "data": {
      "text/plain": [
       "count    35013.000000\n",
       "mean      4706.398300\n",
       "std       5347.922707\n",
       "min        135.160000\n",
       "25%       2007.500000\n",
       "50%       3592.820000\n",
       "75%       5630.400000\n",
       "max      58068.140000\n",
       "Name: MarkDown5, dtype: float64"
      ]
     },
     "metadata": {},
     "output_type": "display_data"
    }
   ],
   "source": [
    "display(df[\"MarkDown5\"].describe())"
   ]
  },
  {
   "cell_type": "markdown",
   "metadata": {},
   "source": [
    "Okay--let's examine what we know about these columns, and come up with a solution for dealing with these null values. \n",
    "\n",
    "* The data contained within each column are continuously-valued floats. \n",
    "* The range is quite large, with the smallest value being around 0 or even negative in some columns, and the max being greater than 100,000.\n",
    "* There is extremely high variance in each, with the standard deviation being larger than the mean in all 5 columns. \n",
    "\n",
    "\n",
    "### Dealing With Null Values Through Binning\n",
    "\n",
    "This suggests that our best bet is to bin the columns.  The hard part is figuring out the right amount of bins to use.  Too many, and we subject ourselves to the curse of dimensionality.  Too few, and we lose information from the columns that could be important. \n",
    "\n",
    "For now, let's start with with 5 bins of equal size. \n",
    "\n",
    "In the cell below: \n",
    "\n",
    "* Create a binned version of each `MarkDown` column and add them to our DataFrame.  \n",
    "* When calling `pd.cut()`, pass in the appropriate column as the object to be binned, the number of bins we want, `5`, and set the `labels` parameter to `bins`, so that we have clearly labeled names for each bin. \n",
    "\n",
    "For more information on how to bin these columns using pd.cut, see the [pandas documentation for this method.](https://pandas.pydata.org/pandas-docs/version/0.23.4/generated/pandas.cut.html)"
   ]
  },
  {
   "cell_type": "code",
   "execution_count": 57,
   "metadata": {},
   "outputs": [],
   "source": [
    "bins = ['0-20%', '21-40%', '41-60%', '61-80%', '81-100%']\n",
    "for i in range (1, 6):\n",
    "    df[\"binned_markdown_\" + str(i)] = pd.cut(df[\"MarkDown\" + str(i)], 5, labels=bins)"
   ]
  },
  {
   "cell_type": "markdown",
   "metadata": {},
   "source": [
    "Great! Now, let's check the `.dtypes` attribute of our DataFrame to see that these new categorical columns have been created. "
   ]
  },
  {
   "cell_type": "code",
   "execution_count": 58,
   "metadata": {},
   "outputs": [
    {
     "data": {
      "text/plain": [
       "Store                  object\n",
       "Dept                   object\n",
       "Date                   object\n",
       "Weekly_Sales          float64\n",
       "IsHoliday                bool\n",
       "Type                   object\n",
       "Size                    int64\n",
       "Temperature           float64\n",
       "Fuel_Price            float64\n",
       "MarkDown1             float64\n",
       "MarkDown2             float64\n",
       "MarkDown3             float64\n",
       "MarkDown4             float64\n",
       "MarkDown5             float64\n",
       "CPI                   float64\n",
       "Unemployment          float64\n",
       "binned_markdown_1    category\n",
       "binned_markdown_2    category\n",
       "binned_markdown_3    category\n",
       "binned_markdown_4    category\n",
       "binned_markdown_5    category\n",
       "dtype: object"
      ]
     },
     "execution_count": 58,
     "metadata": {},
     "output_type": "execute_result"
    }
   ],
   "source": [
    "df.dtypes"
   ]
  },
  {
   "cell_type": "markdown",
   "metadata": {},
   "source": [
    "They exist! However, they still contain null values.  We need to replace all null values with a string that will represent all missing values.  This is easy enough for us--we can just use the `replace()` method or the `fillna()` method on each column and replace `NaN` with `\"NaN\"`. \n",
    "\n",
    "In the cell below, replace all missing values inside our `binned_markdown` columns with the string `\"NaN\"`.\n",
    "\n",
    "**_NOTE:_** If you're unsure of how to do this, check the [pandas documentation for replace](https://pandas.pydata.org/pandas-docs/stable/generated/pandas.DataFrame.replace.html)."
   ]
  },
  {
   "cell_type": "code",
   "execution_count": 74,
   "metadata": {},
   "outputs": [],
   "source": [
    "for i in range (1,6):\n",
    "    df[\"binned_markdown_\" + str(i)].replace(np.nan, 'NaN',inplace=True)"
   ]
  },
  {
   "cell_type": "markdown",
   "metadata": {},
   "source": [
    "Great! Now, let's check if those columns still contain null values. \n",
    "\n",
    "In the cell below, display the number of null values contained within each column of our DataFrame."
   ]
  },
  {
   "cell_type": "code",
   "execution_count": 75,
   "metadata": {},
   "outputs": [
    {
     "data": {
      "text/plain": [
       "Store                0\n",
       "Dept                 0\n",
       "Weekly_Sales         0\n",
       "IsHoliday            0\n",
       "Type                 0\n",
       "Size                 0\n",
       "Temperature          0\n",
       "Fuel_Price           0\n",
       "CPI                  0\n",
       "Unemployment         0\n",
       "binned_markdown_1    0\n",
       "binned_markdown_2    0\n",
       "binned_markdown_3    0\n",
       "binned_markdown_4    0\n",
       "binned_markdown_5    0\n",
       "dtype: int64"
      ]
     },
     "execution_count": 75,
     "metadata": {},
     "output_type": "execute_result"
    }
   ],
   "source": [
    "df.isna().sum()"
   ]
  },
  {
   "cell_type": "markdown",
   "metadata": {},
   "source": [
    "Excellent! We've now dealt with all the null values in our dataset through **_Coarse Classification_** by binning our data and treating null values as a distinct category. All that's left to do is to drop our original `MarkDown` columns from the DataFrame. \n",
    "\n",
    "Note that in this step, we'll also drop the `Date` column, because we are going to build a generalized model and will not be making use of any time series data. \n",
    "\n",
    "In the cell below:\n",
    "\n",
    "* Create a list called `to_drop` that contains the name of every `MarkDown` column we need to drop (for a challenge, try doing this with a list comprehension!)\n",
    "* Append `\"Date\"` to `to_drop`\n",
    "* Drop these columns (in place) from our DataFrame\n",
    "* Display the number of null values in each column again to confirm that these columns have been dropped, and that our DataFrame now contains no missing values\n"
   ]
  },
  {
   "cell_type": "code",
   "execution_count": 68,
   "metadata": {},
   "outputs": [],
   "source": [
    "to_drop = ['MarkDown'+str(num) for num in range (1,6)]"
   ]
  },
  {
   "cell_type": "code",
   "execution_count": 70,
   "metadata": {},
   "outputs": [
    {
     "data": {
      "text/plain": [
       "['MarkDown1', 'MarkDown2', 'MarkDown3', 'MarkDown4', 'MarkDown5', 'Date']"
      ]
     },
     "execution_count": 70,
     "metadata": {},
     "output_type": "execute_result"
    }
   ],
   "source": [
    "to_drop.append('Date')\n",
    "to_drop"
   ]
  },
  {
   "cell_type": "code",
   "execution_count": 72,
   "metadata": {},
   "outputs": [],
   "source": [
    "df.drop(columns=to_drop,inplace=True)"
   ]
  },
  {
   "cell_type": "code",
   "execution_count": 73,
   "metadata": {},
   "outputs": [
    {
     "data": {
      "text/plain": [
       "Store                    0\n",
       "Dept                     0\n",
       "Weekly_Sales             0\n",
       "IsHoliday                0\n",
       "Type                     0\n",
       "Size                     0\n",
       "Temperature              0\n",
       "Fuel_Price               0\n",
       "CPI                      0\n",
       "Unemployment             0\n",
       "binned_markdown_1    62826\n",
       "binned_markdown_2    70607\n",
       "binned_markdown_3    65326\n",
       "binned_markdown_4    63354\n",
       "binned_markdown_5    62826\n",
       "dtype: int64"
      ]
     },
     "execution_count": 73,
     "metadata": {},
     "output_type": "execute_result"
    }
   ],
   "source": [
    "df.isna().sum()"
   ]
  },
  {
   "cell_type": "markdown",
   "metadata": {},
   "source": [
    "### Checking for Multicollinearity\n",
    "\n",
    "\n",
    "Before we one-hot encode our categorical columns, we'll want to quickly check the dataset for multicollinearity, since this can really mess up our model if it exists in the dataset.  We want to make sure that the columns within the dataset are not highly correlated. \n",
    "\n",
    "We'll do this by creating a correlation heatmap. We want to do this before one-hot-encoding our data because each column becomes both a row and a column in the visualization, and after one-hot encoding, this dataset will contain over 300 columns!\n",
    "\n",
    "The [seaborn documentation](https://seaborn.pydata.org/examples/many_pairwise_correlations.html) provides some great code samples to help us figure out how to display a Correlation Heatmap.  \n",
    "\n",
    "Check out this documentation, and then modify the code included so that it displays a Correlation Heatmap for our dataset below."
   ]
  },
  {
   "cell_type": "code",
   "execution_count": 77,
   "metadata": {},
   "outputs": [
    {
     "data": {
      "text/plain": [
       "<matplotlib.axes._subplots.AxesSubplot at 0x113549710>"
      ]
     },
     "execution_count": 77,
     "metadata": {},
     "output_type": "execute_result"
    },
    {
     "data": {
      "image/png": "[encoded data removed]",
      "text/plain": [
       "<Figure size 792x648 with 2 Axes>"
      ]
     },
     "metadata": {},
     "output_type": "display_data"
    }
   ],
   "source": [
    "# Set the style of the visualization\n",
    "sns.set(style=\"white\")\n",
    "\n",
    "# Create a covariance matrix\n",
    "corr = df.corr()\n",
    "\n",
    "# Generate a mask the size of our covariance matrix\n",
    "mask = np.zeros_like(corr, dtype=np.bool)\n",
    "mask[np.triu_indices_from(mask)] = True\n",
    "\n",
    "# Set up the matplotlib figure\n",
    "f, ax = plt.subplots(figsize=(11, 9))\n",
    "\n",
    "# Generate a custom diverging colormap\n",
    "cmap = sns.diverging_palette(220, 10, as_cmap=True)\n",
    "\n",
    "# Draw the heatmap with the mask and correct aspect ratio\n",
    "sns.heatmap(corr, mask=mask, cmap=cmap, vmax=.3, center=0,\n",
    "            square=True, linewidths=.5, cbar_kws={\"shrink\": .5})"
   ]
  },
  {
   "cell_type": "code",
   "execution_count": 78,
   "metadata": {},
   "outputs": [],
   "source": [
    "# Size is most highly correlated with our target variable, weekly sales. This makes sense, as large stores are going to serve more customers, and will therefore have higher sales. There is some small amount of correlation amongst our predictors, but not enough that we need to worry about removing anything."
   ]
  },
  {
   "cell_type": "markdown",
   "metadata": {},
   "source": [
    "Interpret the Correlation Heatmap we created above to answer the following questions:\n",
    "\n",
    "Which columns are highly correlated with the target column our model will predict?  Are any of our predictor columns highly correlated enough that we should consider dropping them?  Explain your answer.\n",
    "\n",
    "Write your answer below this line:\n",
    "________________________________________________________________________________________________________________________________\n",
    "\n",
    "\n",
    "\n",
    "## Normalizing our Data\n",
    "\n",
    "Now, we'll need to convert all of our numeric columns to the same scale by **_normalizing_** our dataset.  Recall that we normalize our dataset by converting each numeric value to it's corresponding z-score for the column, which is obtained by subtracting the column's mean and then dividing by the column's standard deviation for every value. \n",
    "\n",
    "Since we only have 4 columns containing numeric data that needs to be normalized, we'll do this by hand in the cell below. This allows us to avoid errors that stem from trying to normalize datasets that contain strings in all of our categorical columns. Plus, it's good practice to help us remember how normalization works!\n",
    "\n",
    "In the cell below:\n",
    "\n",
    "* Normalize the following columns individually: `Size`, `Temperature`, `Fuel_Price`, `CPI`, and `Unemployment` by subtracting the column mean and dividing by the column standard deviation. "
   ]
  },
  {
   "cell_type": "code",
   "execution_count": 79,
   "metadata": {},
   "outputs": [],
   "source": [
    "df.Size = (df.Size - df.Size.mean()) / np.std(df.Size)\n",
    "df.Temperature = (df.Temperature - df.Temperature.mean()) / df.Temperature.std()\n",
    "df.Fuel_Price = (df.Fuel_Price - df.Fuel_Price.mean()) / df.Fuel_Price.std()\n",
    "df.CPI = (df.CPI - df.CPI.mean()) / df.CPI.std()\n",
    "df.Unemployment = (df.Unemployment - df.Unemployment.mean()) / df.Unemployment.std()"
   ]
  },
  {
   "cell_type": "markdown",
   "metadata": {},
   "source": [
    "## One-Hot Encoding Categorical Columns\n",
    "\n",
    "For our final step, we'll need to deal with our categorical columns.  Categorical data work work for our modeling step--we'll need to convert these to numeric columns through **_one-hot encoding_**.  \n",
    "\n",
    "In the cell below, use the [appropriate function in pandas](https://pandas.pydata.org/pandas-docs/stable/generated/pandas.get_dummies.html) to one-hot encode the dataset."
   ]
  },
  {
   "cell_type": "code",
   "execution_count": 80,
   "metadata": {},
   "outputs": [],
   "source": [
    "df = pd.get_dummies(df)"
   ]
  },
  {
   "cell_type": "code",
   "execution_count": 81,
   "metadata": {},
   "outputs": [
    {
     "data": {
      "text/html": [
       "<div>\n",
       "<style scoped>\n",
       "    .dataframe tbody tr th:only-of-type {\n",
       "        vertical-align: middle;\n",
       "    }\n",
       "\n",
       "    .dataframe tbody tr th {\n",
       "        vertical-align: top;\n",
       "    }\n",
       "\n",
       "    .dataframe thead th {\n",
       "        text-align: right;\n",
       "    }\n",
       "</style>\n",
       "<table border=\"1\" class=\"dataframe\">\n",
       "  <thead>\n",
       "    <tr style=\"text-align: right;\">\n",
       "      <th></th>\n",
       "      <th>Weekly_Sales</th>\n",
       "      <th>IsHoliday</th>\n",
       "      <th>Size</th>\n",
       "      <th>Temperature</th>\n",
       "      <th>Fuel_Price</th>\n",
       "      <th>CPI</th>\n",
       "      <th>Unemployment</th>\n",
       "      <th>Store_1</th>\n",
       "      <th>Store_10</th>\n",
       "      <th>Store_2</th>\n",
       "      <th>...</th>\n",
       "      <th>binned_markdown_4_41-60%</th>\n",
       "      <th>binned_markdown_4_61-80%</th>\n",
       "      <th>binned_markdown_4_81-100%</th>\n",
       "      <th>binned_markdown_4_NaN</th>\n",
       "      <th>binned_markdown_5_0-20%</th>\n",
       "      <th>binned_markdown_5_21-40%</th>\n",
       "      <th>binned_markdown_5_41-60%</th>\n",
       "      <th>binned_markdown_5_61-80%</th>\n",
       "      <th>binned_markdown_5_81-100%</th>\n",
       "      <th>binned_markdown_5_NaN</th>\n",
       "    </tr>\n",
       "  </thead>\n",
       "  <tbody>\n",
       "    <tr>\n",
       "      <th>0</th>\n",
       "      <td>24924.50</td>\n",
       "      <td>False</td>\n",
       "      <td>0.283437</td>\n",
       "      <td>-1.301205</td>\n",
       "      <td>-1.56024</td>\n",
       "      <td>0.40349</td>\n",
       "      <td>0.913194</td>\n",
       "      <td>1</td>\n",
       "      <td>0</td>\n",
       "      <td>0</td>\n",
       "      <td>...</td>\n",
       "      <td>0</td>\n",
       "      <td>0</td>\n",
       "      <td>0</td>\n",
       "      <td>1</td>\n",
       "      <td>0</td>\n",
       "      <td>0</td>\n",
       "      <td>0</td>\n",
       "      <td>0</td>\n",
       "      <td>0</td>\n",
       "      <td>1</td>\n",
       "    </tr>\n",
       "    <tr>\n",
       "      <th>1</th>\n",
       "      <td>50605.27</td>\n",
       "      <td>False</td>\n",
       "      <td>0.283437</td>\n",
       "      <td>-1.301205</td>\n",
       "      <td>-1.56024</td>\n",
       "      <td>0.40349</td>\n",
       "      <td>0.913194</td>\n",
       "      <td>1</td>\n",
       "      <td>0</td>\n",
       "      <td>0</td>\n",
       "      <td>...</td>\n",
       "      <td>0</td>\n",
       "      <td>0</td>\n",
       "      <td>0</td>\n",
       "      <td>1</td>\n",
       "      <td>0</td>\n",
       "      <td>0</td>\n",
       "      <td>0</td>\n",
       "      <td>0</td>\n",
       "      <td>0</td>\n",
       "      <td>1</td>\n",
       "    </tr>\n",
       "    <tr>\n",
       "      <th>2</th>\n",
       "      <td>13740.12</td>\n",
       "      <td>False</td>\n",
       "      <td>0.283437</td>\n",
       "      <td>-1.301205</td>\n",
       "      <td>-1.56024</td>\n",
       "      <td>0.40349</td>\n",
       "      <td>0.913194</td>\n",
       "      <td>1</td>\n",
       "      <td>0</td>\n",
       "      <td>0</td>\n",
       "      <td>...</td>\n",
       "      <td>0</td>\n",
       "      <td>0</td>\n",
       "      <td>0</td>\n",
       "      <td>1</td>\n",
       "      <td>0</td>\n",
       "      <td>0</td>\n",
       "      <td>0</td>\n",
       "      <td>0</td>\n",
       "      <td>0</td>\n",
       "      <td>1</td>\n",
       "    </tr>\n",
       "    <tr>\n",
       "      <th>3</th>\n",
       "      <td>39954.04</td>\n",
       "      <td>False</td>\n",
       "      <td>0.283437</td>\n",
       "      <td>-1.301205</td>\n",
       "      <td>-1.56024</td>\n",
       "      <td>0.40349</td>\n",
       "      <td>0.913194</td>\n",
       "      <td>1</td>\n",
       "      <td>0</td>\n",
       "      <td>0</td>\n",
       "      <td>...</td>\n",
       "      <td>0</td>\n",
       "      <td>0</td>\n",
       "      <td>0</td>\n",
       "      <td>1</td>\n",
       "      <td>0</td>\n",
       "      <td>0</td>\n",
       "      <td>0</td>\n",
       "      <td>0</td>\n",
       "      <td>0</td>\n",
       "      <td>1</td>\n",
       "    </tr>\n",
       "    <tr>\n",
       "      <th>4</th>\n",
       "      <td>32229.38</td>\n",
       "      <td>False</td>\n",
       "      <td>0.283437</td>\n",
       "      <td>-1.301205</td>\n",
       "      <td>-1.56024</td>\n",
       "      <td>0.40349</td>\n",
       "      <td>0.913194</td>\n",
       "      <td>1</td>\n",
       "      <td>0</td>\n",
       "      <td>0</td>\n",
       "      <td>...</td>\n",
       "      <td>0</td>\n",
       "      <td>0</td>\n",
       "      <td>0</td>\n",
       "      <td>1</td>\n",
       "      <td>0</td>\n",
       "      <td>0</td>\n",
       "      <td>0</td>\n",
       "      <td>0</td>\n",
       "      <td>0</td>\n",
       "      <td>1</td>\n",
       "    </tr>\n",
       "  </tbody>\n",
       "</table>\n",
       "<p>5 rows × 127 columns</p>\n",
       "</div>"
      ],
      "text/plain": [
       "   Weekly_Sales  IsHoliday      Size  Temperature  Fuel_Price      CPI  \\\n",
       "0      24924.50      False  0.283437    -1.301205    -1.56024  0.40349   \n",
       "1      50605.27      False  0.283437    -1.301205    -1.56024  0.40349   \n",
       "2      13740.12      False  0.283437    -1.301205    -1.56024  0.40349   \n",
       "3      39954.04      False  0.283437    -1.301205    -1.56024  0.40349   \n",
       "4      32229.38      False  0.283437    -1.301205    -1.56024  0.40349   \n",
       "\n",
       "   Unemployment  Store_1  Store_10  Store_2          ...            \\\n",
       "0      0.913194        1         0        0          ...             \n",
       "1      0.913194        1         0        0          ...             \n",
       "2      0.913194        1         0        0          ...             \n",
       "3      0.913194        1         0        0          ...             \n",
       "4      0.913194        1         0        0          ...             \n",
       "\n",
       "   binned_markdown_4_41-60%  binned_markdown_4_61-80%  \\\n",
       "0                         0                         0   \n",
       "1                         0                         0   \n",
       "2                         0                         0   \n",
       "3                         0                         0   \n",
       "4                         0                         0   \n",
       "\n",
       "   binned_markdown_4_81-100%  binned_markdown_4_NaN  binned_markdown_5_0-20%  \\\n",
       "0                          0                      1                        0   \n",
       "1                          0                      1                        0   \n",
       "2                          0                      1                        0   \n",
       "3                          0                      1                        0   \n",
       "4                          0                      1                        0   \n",
       "\n",
       "   binned_markdown_5_21-40%  binned_markdown_5_41-60%  \\\n",
       "0                         0                         0   \n",
       "1                         0                         0   \n",
       "2                         0                         0   \n",
       "3                         0                         0   \n",
       "4                         0                         0   \n",
       "\n",
       "   binned_markdown_5_61-80%  binned_markdown_5_81-100%  binned_markdown_5_NaN  \n",
       "0                         0                          0                      1  \n",
       "1                         0                          0                      1  \n",
       "2                         0                          0                      1  \n",
       "3                         0                          0                      1  \n",
       "4                         0                          0                      1  \n",
       "\n",
       "[5 rows x 127 columns]"
      ]
     },
     "execution_count": 81,
     "metadata": {},
     "output_type": "execute_result"
    }
   ],
   "source": [
    "df.head()"
   ]
  },
  {
   "cell_type": "markdown",
   "metadata": {},
   "source": [
    "That's it! We've now successfully scrubbed our dataset--we're now ready for data exploration and modeling.\n",
    "\n",
    "## Conclusion\n",
    "\n",
    "In this lesson, we learned gain practice with data cleaning by:\n",
    "\n",
    "* Casting columns to the appropriate data types\n",
    "* Identifying and deal with null values appropriately\n",
    "* Removing unnecessary columns\n",
    "* Checking for and deal with multicollinearity\n",
    "* Normalizing our data"
   ]
  }
 ],
 "metadata": {
  "kernelspec": {
   "display_name": "Python 3",
   "language": "python",
   "name": "python3"
  },
  "language_info": {
   "codemirror_mode": {
    "name": "ipython",
    "version": 2
   },
   "file_extension": ".py",
   "mimetype": "text/x-python",
   "name": "python",
   "nbconvert_exporter": "python",
   "pygments_lexer": "ipython2",
   "version": "2.7.10"
  }
 },
 "nbformat": 4,
 "nbformat_minor": 2
}
